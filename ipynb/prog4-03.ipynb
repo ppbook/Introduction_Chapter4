{
  "nbformat": 4,
  "nbformat_minor": 0,
  "metadata": {
    "colab": {
      "name": "prog4-03.ipynb",
      "provenance": []
    },
    "kernelspec": {
      "name": "python3",
      "display_name": "Python 3"
    }
  },
  "cells": [
    {
      "cell_type": "code",
      "metadata": {
        "colab": {
          "resources": {
            "http://localhost:8080/nbextensions/google.colab/files.js": {
              "data": "Ly8gQ29weXJpZ2h0IDIwMTcgR29vZ2xlIExMQwovLwovLyBMaWNlbnNlZCB1bmRlciB0aGUgQXBhY2hlIExpY2Vuc2UsIFZlcnNpb24gMi4wICh0aGUgIkxpY2Vuc2UiKTsKLy8geW91IG1heSBub3QgdXNlIHRoaXMgZmlsZSBleGNlcHQgaW4gY29tcGxpYW5jZSB3aXRoIHRoZSBMaWNlbnNlLgovLyBZb3UgbWF5IG9idGFpbiBhIGNvcHkgb2YgdGhlIExpY2Vuc2UgYXQKLy8KLy8gICAgICBodHRwOi8vd3d3LmFwYWNoZS5vcmcvbGljZW5zZXMvTElDRU5TRS0yLjAKLy8KLy8gVW5sZXNzIHJlcXVpcmVkIGJ5IGFwcGxpY2FibGUgbGF3IG9yIGFncmVlZCB0byBpbiB3cml0aW5nLCBzb2Z0d2FyZQovLyBkaXN0cmlidXRlZCB1bmRlciB0aGUgTGljZW5zZSBpcyBkaXN0cmlidXRlZCBvbiBhbiAiQVMgSVMiIEJBU0lTLAovLyBXSVRIT1VUIFdBUlJBTlRJRVMgT1IgQ09ORElUSU9OUyBPRiBBTlkgS0lORCwgZWl0aGVyIGV4cHJlc3Mgb3IgaW1wbGllZC4KLy8gU2VlIHRoZSBMaWNlbnNlIGZvciB0aGUgc3BlY2lmaWMgbGFuZ3VhZ2UgZ292ZXJuaW5nIHBlcm1pc3Npb25zIGFuZAovLyBsaW1pdGF0aW9ucyB1bmRlciB0aGUgTGljZW5zZS4KCi8qKgogKiBAZmlsZW92ZXJ2aWV3IEhlbHBlcnMgZm9yIGdvb2dsZS5jb2xhYiBQeXRob24gbW9kdWxlLgogKi8KKGZ1bmN0aW9uKHNjb3BlKSB7CmZ1bmN0aW9uIHNwYW4odGV4dCwgc3R5bGVBdHRyaWJ1dGVzID0ge30pIHsKICBjb25zdCBlbGVtZW50ID0gZG9jdW1lbnQuY3JlYXRlRWxlbWVudCgnc3BhbicpOwogIGVsZW1lbnQudGV4dENvbnRlbnQgPSB0ZXh0OwogIGZvciAoY29uc3Qga2V5IG9mIE9iamVjdC5rZXlzKHN0eWxlQXR0cmlidXRlcykpIHsKICAgIGVsZW1lbnQuc3R5bGVba2V5XSA9IHN0eWxlQXR0cmlidXRlc1trZXldOwogIH0KICByZXR1cm4gZWxlbWVudDsKfQoKLy8gTWF4IG51bWJlciBvZiBieXRlcyB3aGljaCB3aWxsIGJlIHVwbG9hZGVkIGF0IGEgdGltZS4KY29uc3QgTUFYX1BBWUxPQURfU0laRSA9IDEwMCAqIDEwMjQ7CgpmdW5jdGlvbiBfdXBsb2FkRmlsZXMoaW5wdXRJZCwgb3V0cHV0SWQpIHsKICBjb25zdCBzdGVwcyA9IHVwbG9hZEZpbGVzU3RlcChpbnB1dElkLCBvdXRwdXRJZCk7CiAgY29uc3Qgb3V0cHV0RWxlbWVudCA9IGRvY3VtZW50LmdldEVsZW1lbnRCeUlkKG91dHB1dElkKTsKICAvLyBDYWNoZSBzdGVwcyBvbiB0aGUgb3V0cHV0RWxlbWVudCB0byBtYWtlIGl0IGF2YWlsYWJsZSBmb3IgdGhlIG5leHQgY2FsbAogIC8vIHRvIHVwbG9hZEZpbGVzQ29udGludWUgZnJvbSBQeXRob24uCiAgb3V0cHV0RWxlbWVudC5zdGVwcyA9IHN0ZXBzOwoKICByZXR1cm4gX3VwbG9hZEZpbGVzQ29udGludWUob3V0cHV0SWQpOwp9CgovLyBUaGlzIGlzIHJvdWdobHkgYW4gYXN5bmMgZ2VuZXJhdG9yIChub3Qgc3VwcG9ydGVkIGluIHRoZSBicm93c2VyIHlldCksCi8vIHdoZXJlIHRoZXJlIGFyZSBtdWx0aXBsZSBhc3luY2hyb25vdXMgc3RlcHMgYW5kIHRoZSBQeXRob24gc2lkZSBpcyBnb2luZwovLyB0byBwb2xsIGZvciBjb21wbGV0aW9uIG9mIGVhY2ggc3RlcC4KLy8gVGhpcyB1c2VzIGEgUHJvbWlzZSB0byBibG9jayB0aGUgcHl0aG9uIHNpZGUgb24gY29tcGxldGlvbiBvZiBlYWNoIHN0ZXAsCi8vIHRoZW4gcGFzc2VzIHRoZSByZXN1bHQgb2YgdGhlIHByZXZpb3VzIHN0ZXAgYXMgdGhlIGlucHV0IHRvIHRoZSBuZXh0IHN0ZXAuCmZ1bmN0aW9uIF91cGxvYWRGaWxlc0NvbnRpbnVlKG91dHB1dElkKSB7CiAgY29uc3Qgb3V0cHV0RWxlbWVudCA9IGRvY3VtZW50LmdldEVsZW1lbnRCeUlkKG91dHB1dElkKTsKICBjb25zdCBzdGVwcyA9IG91dHB1dEVsZW1lbnQuc3RlcHM7CgogIGNvbnN0IG5leHQgPSBzdGVwcy5uZXh0KG91dHB1dEVsZW1lbnQubGFzdFByb21pc2VWYWx1ZSk7CiAgcmV0dXJuIFByb21pc2UucmVzb2x2ZShuZXh0LnZhbHVlLnByb21pc2UpLnRoZW4oKHZhbHVlKSA9PiB7CiAgICAvLyBDYWNoZSB0aGUgbGFzdCBwcm9taXNlIHZhbHVlIHRvIG1ha2UgaXQgYXZhaWxhYmxlIHRvIHRoZSBuZXh0CiAgICAvLyBzdGVwIG9mIHRoZSBnZW5lcmF0b3IuCiAgICBvdXRwdXRFbGVtZW50Lmxhc3RQcm9taXNlVmFsdWUgPSB2YWx1ZTsKICAgIHJldHVybiBuZXh0LnZhbHVlLnJlc3BvbnNlOwogIH0pOwp9CgovKioKICogR2VuZXJhdG9yIGZ1bmN0aW9uIHdoaWNoIGlzIGNhbGxlZCBiZXR3ZWVuIGVhY2ggYXN5bmMgc3RlcCBvZiB0aGUgdXBsb2FkCiAqIHByb2Nlc3MuCiAqIEBwYXJhbSB7c3RyaW5nfSBpbnB1dElkIEVsZW1lbnQgSUQgb2YgdGhlIGlucHV0IGZpbGUgcGlja2VyIGVsZW1lbnQuCiAqIEBwYXJhbSB7c3RyaW5nfSBvdXRwdXRJZCBFbGVtZW50IElEIG9mIHRoZSBvdXRwdXQgZGlzcGxheS4KICogQHJldHVybiB7IUl0ZXJhYmxlPCFPYmplY3Q+fSBJdGVyYWJsZSBvZiBuZXh0IHN0ZXBzLgogKi8KZnVuY3Rpb24qIHVwbG9hZEZpbGVzU3RlcChpbnB1dElkLCBvdXRwdXRJZCkgewogIGNvbnN0IGlucHV0RWxlbWVudCA9IGRvY3VtZW50LmdldEVsZW1lbnRCeUlkKGlucHV0SWQpOwogIGlucHV0RWxlbWVudC5kaXNhYmxlZCA9IGZhbHNlOwoKICBjb25zdCBvdXRwdXRFbGVtZW50ID0gZG9jdW1lbnQuZ2V0RWxlbWVudEJ5SWQob3V0cHV0SWQpOwogIG91dHB1dEVsZW1lbnQuaW5uZXJIVE1MID0gJyc7CgogIGNvbnN0IHBpY2tlZFByb21pc2UgPSBuZXcgUHJvbWlzZSgocmVzb2x2ZSkgPT4gewogICAgaW5wdXRFbGVtZW50LmFkZEV2ZW50TGlzdGVuZXIoJ2NoYW5nZScsIChlKSA9PiB7CiAgICAgIHJlc29sdmUoZS50YXJnZXQuZmlsZXMpOwogICAgfSk7CiAgfSk7CgogIGNvbnN0IGNhbmNlbCA9IGRvY3VtZW50LmNyZWF0ZUVsZW1lbnQoJ2J1dHRvbicpOwogIGlucHV0RWxlbWVudC5wYXJlbnRFbGVtZW50LmFwcGVuZENoaWxkKGNhbmNlbCk7CiAgY2FuY2VsLnRleHRDb250ZW50ID0gJ0NhbmNlbCB1cGxvYWQnOwogIGNvbnN0IGNhbmNlbFByb21pc2UgPSBuZXcgUHJvbWlzZSgocmVzb2x2ZSkgPT4gewogICAgY2FuY2VsLm9uY2xpY2sgPSAoKSA9PiB7CiAgICAgIHJlc29sdmUobnVsbCk7CiAgICB9OwogIH0pOwoKICAvLyBXYWl0IGZvciB0aGUgdXNlciB0byBwaWNrIHRoZSBmaWxlcy4KICBjb25zdCBmaWxlcyA9IHlpZWxkIHsKICAgIHByb21pc2U6IFByb21pc2UucmFjZShbcGlja2VkUHJvbWlzZSwgY2FuY2VsUHJvbWlzZV0pLAogICAgcmVzcG9uc2U6IHsKICAgICAgYWN0aW9uOiAnc3RhcnRpbmcnLAogICAgfQogIH07CgogIGNhbmNlbC5yZW1vdmUoKTsKCiAgLy8gRGlzYWJsZSB0aGUgaW5wdXQgZWxlbWVudCBzaW5jZSBmdXJ0aGVyIHBpY2tzIGFyZSBub3QgYWxsb3dlZC4KICBpbnB1dEVsZW1lbnQuZGlzYWJsZWQgPSB0cnVlOwoKICBpZiAoIWZpbGVzKSB7CiAgICByZXR1cm4gewogICAgICByZXNwb25zZTogewogICAgICAgIGFjdGlvbjogJ2NvbXBsZXRlJywKICAgICAgfQogICAgfTsKICB9CgogIGZvciAoY29uc3QgZmlsZSBvZiBmaWxlcykgewogICAgY29uc3QgbGkgPSBkb2N1bWVudC5jcmVhdGVFbGVtZW50KCdsaScpOwogICAgbGkuYXBwZW5kKHNwYW4oZmlsZS5uYW1lLCB7Zm9udFdlaWdodDogJ2JvbGQnfSkpOwogICAgbGkuYXBwZW5kKHNwYW4oCiAgICAgICAgYCgke2ZpbGUudHlwZSB8fCAnbi9hJ30pIC0gJHtmaWxlLnNpemV9IGJ5dGVzLCBgICsKICAgICAgICBgbGFzdCBtb2RpZmllZDogJHsKICAgICAgICAgICAgZmlsZS5sYXN0TW9kaWZpZWREYXRlID8gZmlsZS5sYXN0TW9kaWZpZWREYXRlLnRvTG9jYWxlRGF0ZVN0cmluZygpIDoKICAgICAgICAgICAgICAgICAgICAgICAgICAgICAgICAgICAgJ24vYSd9IC0gYCkpOwogICAgY29uc3QgcGVyY2VudCA9IHNwYW4oJzAlIGRvbmUnKTsKICAgIGxpLmFwcGVuZENoaWxkKHBlcmNlbnQpOwoKICAgIG91dHB1dEVsZW1lbnQuYXBwZW5kQ2hpbGQobGkpOwoKICAgIGNvbnN0IGZpbGVEYXRhUHJvbWlzZSA9IG5ldyBQcm9taXNlKChyZXNvbHZlKSA9PiB7CiAgICAgIGNvbnN0IHJlYWRlciA9IG5ldyBGaWxlUmVhZGVyKCk7CiAgICAgIHJlYWRlci5vbmxvYWQgPSAoZSkgPT4gewogICAgICAgIHJlc29sdmUoZS50YXJnZXQucmVzdWx0KTsKICAgICAgfTsKICAgICAgcmVhZGVyLnJlYWRBc0FycmF5QnVmZmVyKGZpbGUpOwogICAgfSk7CiAgICAvLyBXYWl0IGZvciB0aGUgZGF0YSB0byBiZSByZWFkeS4KICAgIGxldCBmaWxlRGF0YSA9IHlpZWxkIHsKICAgICAgcHJvbWlzZTogZmlsZURhdGFQcm9taXNlLAogICAgICByZXNwb25zZTogewogICAgICAgIGFjdGlvbjogJ2NvbnRpbnVlJywKICAgICAgfQogICAgfTsKCiAgICAvLyBVc2UgYSBjaHVua2VkIHNlbmRpbmcgdG8gYXZvaWQgbWVzc2FnZSBzaXplIGxpbWl0cy4gU2VlIGIvNjIxMTU2NjAuCiAgICBsZXQgcG9zaXRpb24gPSAwOwogICAgd2hpbGUgKHBvc2l0aW9uIDwgZmlsZURhdGEuYnl0ZUxlbmd0aCkgewogICAgICBjb25zdCBsZW5ndGggPSBNYXRoLm1pbihmaWxlRGF0YS5ieXRlTGVuZ3RoIC0gcG9zaXRpb24sIE1BWF9QQVlMT0FEX1NJWkUpOwogICAgICBjb25zdCBjaHVuayA9IG5ldyBVaW50OEFycmF5KGZpbGVEYXRhLCBwb3NpdGlvbiwgbGVuZ3RoKTsKICAgICAgcG9zaXRpb24gKz0gbGVuZ3RoOwoKICAgICAgY29uc3QgYmFzZTY0ID0gYnRvYShTdHJpbmcuZnJvbUNoYXJDb2RlLmFwcGx5KG51bGwsIGNodW5rKSk7CiAgICAgIHlpZWxkIHsKICAgICAgICByZXNwb25zZTogewogICAgICAgICAgYWN0aW9uOiAnYXBwZW5kJywKICAgICAgICAgIGZpbGU6IGZpbGUubmFtZSwKICAgICAgICAgIGRhdGE6IGJhc2U2NCwKICAgICAgICB9LAogICAgICB9OwogICAgICBwZXJjZW50LnRleHRDb250ZW50ID0KICAgICAgICAgIGAke01hdGgucm91bmQoKHBvc2l0aW9uIC8gZmlsZURhdGEuYnl0ZUxlbmd0aCkgKiAxMDApfSUgZG9uZWA7CiAgICB9CiAgfQoKICAvLyBBbGwgZG9uZS4KICB5aWVsZCB7CiAgICByZXNwb25zZTogewogICAgICBhY3Rpb246ICdjb21wbGV0ZScsCiAgICB9CiAgfTsKfQoKc2NvcGUuZ29vZ2xlID0gc2NvcGUuZ29vZ2xlIHx8IHt9OwpzY29wZS5nb29nbGUuY29sYWIgPSBzY29wZS5nb29nbGUuY29sYWIgfHwge307CnNjb3BlLmdvb2dsZS5jb2xhYi5fZmlsZXMgPSB7CiAgX3VwbG9hZEZpbGVzLAogIF91cGxvYWRGaWxlc0NvbnRpbnVlLAp9Owp9KShzZWxmKTsK",
              "ok": true,
              "headers": [
                [
                  "content-type",
                  "application/javascript"
                ]
              ],
              "status": 200,
              "status_text": ""
            }
          },
          "base_uri": "https://localhost:8080/",
          "height": 78
        },
        "id": "4toaoYm1Ry5p",
        "outputId": "c56d5472-51d6-456a-8a18-c82f025fb3d8"
      },
      "source": [
        "from google.colab import files\r\n",
        "files.upload() # kaggle.jsonをアップロード\r\n",
        "!mkdir -p ~/.kaggle\r\n",
        "!mv kaggle.json ~/.kaggle/\r\n",
        "!chmod 600 /root/.kaggle/kaggle.json"
      ],
      "execution_count": 1,
      "outputs": [
        {
          "output_type": "display_data",
          "data": {
            "text/html": [
              "\n",
              "     <input type=\"file\" id=\"files-28a7f98c-e3a6-492e-95bd-8c158989e22a\" name=\"files[]\" multiple disabled\n",
              "        style=\"border:none\" />\n",
              "     <output id=\"result-28a7f98c-e3a6-492e-95bd-8c158989e22a\">\n",
              "      Upload widget is only available when the cell has been executed in the\n",
              "      current browser session. Please rerun this cell to enable.\n",
              "      </output>\n",
              "      <script src=\"/nbextensions/google.colab/files.js\"></script> "
            ],
            "text/plain": [
              "<IPython.core.display.HTML object>"
            ]
          },
          "metadata": {
            "tags": []
          }
        },
        {
          "output_type": "stream",
          "text": [
            "Saving kaggle.json to kaggle.json\n"
          ],
          "name": "stdout"
        }
      ]
    },
    {
      "cell_type": "code",
      "metadata": {
        "colab": {
          "base_uri": "https://localhost:8080/",
          "height": 0
        },
        "id": "eGMJ-LXVR48j",
        "outputId": "f17459f0-c27a-423b-d86d-afa42af88309"
      },
      "source": [
        "# ラベルエンコーディング用にインポート\r\n",
        "from sklearn.preprocessing import LabelEncoder\r\n",
        "import numpy as np\r\n",
        "import pandas as pd\r\n",
        "from sklearn.model_selection import train_test_split\r\n",
        "# 頻度エンコーディングと順位エンコーディング用に\r\n",
        "# ライブラリcollectionsをインポート\r\n",
        "import collections as colle\r\n",
        "# データの準備\r\n",
        "def prepare():\r\n",
        "    !kaggle datasets download -d \\\r\n",
        "    shabab477/bangladesh-food-safety-authority-restaurant-rating\r\n",
        "    !unzip \\\r\n",
        "    bangladesh-food-safety-authority-restaurant-rating.zip\r\n",
        "    # バングラデシュ食品安全局のレストランの\r\n",
        "    # 評価のデータを使用\r\n",
        "    # 分類に使用する特徴量\r\n",
        "    features = ['area', 'city', 'food_type_name']\r\n",
        "    df_train = pd.read_csv('bd-food-rating.csv')\r\n",
        "    # 欠損値を最頻値で穴埋め\r\n",
        "    for f in features:\r\n",
        "        df_train[f].fillna(df_train[f].mode()) \r\n",
        "    X_train = df_train.loc[:,features].values\r\n",
        "    y_train = df_train.loc[:,['bfsa_approve_status']].values\r\n",
        "    return X_train, y_train, features\r\n",
        "# ラベルエンコーディング\r\n",
        "def label_encoding(X_train, features):\r\n",
        "    ndf = pd.DataFrame(X_train, columns=features)\r\n",
        "    ledf = pd.DataFrame([], columns=features)\r\n",
        "    ledic = {}\r\n",
        "    for f in features:\r\n",
        "        le = LabelEncoder()\r\n",
        "        encoded = le.fit_transform(ndf[f].values)\r\n",
        "        ledic[f] = le\r\n",
        "        ledf[f] = encoded\r\n",
        "    return ledic, ledf\r\n",
        "\r\n",
        "# 頻度エンコーディング\r\n",
        "def freq_encoding(X_train, features):\r\n",
        "    ndf = pd.DataFrame(X_train, columns=features)\r\n",
        "    fdf = pd.DataFrame([], columns=features)\r\n",
        "    fdic = {}\r\n",
        "    for f in features:\r\n",
        "        cnt = colle.Counter(ndf[f].values)\r\n",
        "        freq_dict = dict(cnt.most_common())\r\n",
        "        print(freq_dict) \r\n",
        "        fdic[f] = freq_dict\r\n",
        "        encoded = ndf[f].map(lambda x: cnt[x]).values\r\n",
        "        fdf[f] = encoded\r\n",
        "    return fdic, fdf\r\n",
        "# 順位エンコーディング\r\n",
        "def ranked_freq_encoding(X_train, features):\r\n",
        "    ndf = pd.DataFrame(X_train, columns=features)\r\n",
        "    ldf = pd.DataFrame([], columns=features)\r\n",
        "    ldic = {}\r\n",
        "    for f in features: \r\n",
        "        cnt = colle.Counter(ndf[f].values)\r\n",
        "        label_dict = {keyfreq[0]:i for i, keyfreq \\\r\n",
        "                   in enumerate( \\\r\n",
        "                   cnt.most_common(), start=1)}\r\n",
        "        ldic[f] = label_dict\r\n",
        "        encoded = ndf[f].map( \\\r\n",
        "                    lambda x: label_dict[x]).values\r\n",
        "        ldf[f] = encoded\r\n",
        "    return ldic, ldf\r\n",
        "\r\n",
        "def main():\r\n",
        "    X_train, y_train, features = prepare()\r\n",
        "    df = pd.DataFrame(X_train, columns=features)\r\n",
        "    print(len(df))\r\n",
        "    # ラベルエンコーディング\r\n",
        "    print('Label encoding')\r\n",
        "    ledic, ledf = label_encoding(X_train, features)\r\n",
        "    print(ledf[:5])\r\n",
        "    decoded = ledf['area'][:5]\r\n",
        "    print(decoded)\r\n",
        "    print('------')\r\n",
        "\r\n",
        "    # 頻度エンコーディング\r\n",
        "    print('Freq. encoding')\r\n",
        "    fdic, fdf = freq_encoding(X_train, features)\r\n",
        "    print(fdf[:5])\r\n",
        "    # 確認(頻度が衝突するので複数のキーがマッチ)\r\n",
        "    for v in fdf['area'][:5]:\r\n",
        "        keys = [ky for ky, val in \\\r\n",
        "               fdic['area'].items() if val == v]\r\n",
        "        print('{}:  {}'.format(v, ', '.join(keys)))\r\n",
        "    print('------')\r\n",
        "    # 順位エンコーディング\r\n",
        "    print('Ranked frequency encoding')\r\n",
        "    ldic, ldf = ranked_freq_encoding(X_train, features)\r\n",
        "    print(ldf[:5])\r\n",
        "    for v in ldf['area'][:5]:\r\n",
        "        keys = [ky for ky, val in ldic['area'].items() \\\r\n",
        "                                          if val == v]\r\n",
        "        print('{}:  {}'.format(v, ', '.join(keys)))\r\n",
        "\r\n",
        "if __name__ == '__main__':\r\n",
        "    main()\r\n",
        "    "
      ],
      "execution_count": 2,
      "outputs": [
        {
          "output_type": "stream",
          "text": [
            "Downloading bangladesh-food-safety-authority-restaurant-rating.zip to /content\n",
            "\r  0% 0.00/2.10k [00:00<?, ?B/s]\n",
            "\r100% 2.10k/2.10k [00:00<00:00, 5.70MB/s]\n",
            "Archive:  bangladesh-food-safety-authority-restaurant-rating.zip\n",
            "  inflating: bd-food-rating.csv      \n",
            "57\n",
            "Label encoding\n",
            "   area  city  food_type_name\n",
            "0     5     3               1\n",
            "1     9     6               1\n",
            "2    11    26               1\n",
            "3     4     1               1\n",
            "4    10    31               1\n",
            "0     5\n",
            "1     9\n",
            "2    11\n",
            "3     4\n",
            "4    10\n",
            "Name: area, dtype: int64\n",
            "------\n",
            "Freq. encoding\n",
            "{'Paltan': 21, 'Motijheel': 13, 'Gulistan': 4, 'Kakrail': 3, 'Fakirapool': 3, 'Paltan ': 2, 'Vatara': 2, 'Rampura': 2, 'Fakirapool ': 1, 'Dilkusha': 1, 'Uttara': 1, 'Mirpur': 1, 'Banani': 1, 'Gulshan- 2': 1, 'Dhanmondi': 1}\n",
            "{'54, Purana Paltan, Dhaka-1000': 2, '7, Bangabandhu Avenue, Gulistan, Dhaka-1000': 2, '1/1, Bangabandhu Avenue, Gulistan, Dhaka-1000': 1, '12/A, Dilkusha, Motijheel, Dhaka': 1, '33 Naya Paltan VIP Road, Dhaka-1000': 1, '1, Fakirapool Exten. Motijheel, Dhaka-1000': 1, '42/1/GA, Segun Bagicha': 1, '62, Pioneer Road, Kakrail, DHaka-1000': 1, '22, Motijheel, Dhaka-1000': 1, 'Ka-9/A, Jagannathpur, Vatara, Dhaka-1229': 1, '212, Purana Paltan, Dhaka': 1, '38, Dilkusha, Motijheel, Dhaka-1000': 1, '28/1/C Toyenbee Circular Road, Motijheel, Dhaka-1000': 1, '8, Purana Paltan Mor, Dhaka-1000': 1, '2/3, D. I. T. Road, West Rampura': 1, '345, Segun Bagicha, Dhaka-1000': 1, '71, Motijheel, DHaka-1000': 1, 'Unit # 58, Shop # 007-9, Jamuna Future Park, Dhaka-1229': 1, '1, Dilkusha C/A, Dhaka-1000': 1, '47, Dilkusha, Dhaka-1000': 1, '33 Naya Palton Vip Road, Dhaka-1000': 1, '3/4, Sabbir Tower, Purana Paltan, Dhaka-1000': 1, '210/211. Purana Paltan, Dhaka-1000': 1, '65, Bangabandhu Avenue, Gulistan, Dhaka-1000': 1, '28, Rajuk Avenue, Dhaka-1000': 1, 'Plot # 16, Shonargaon JanaPath Road, Sector # 9, Uttara, Dhaka-1230': 1, 'Plot # 1, Sectot # 2, Block # D, Sony International Ltd, Mirpur, Dhaka-1216': 1, '194 Fakirapool, Motijheel, Dhaka-1000': 1, '34/1, Purana Paltan, Dhaka': 1, '112, Purana Paltan, Dhaka': 1, '28/A, Segun Bagicha, Dhaka-1000': 1, '14, Purana Paltan, Dhaka-1000': 1, 'House # 104, Block # C, Road # 11, Banani, Dhaka-1213': 1, '12, Dilkusha, Motijheel, Dhaka': 1, '59/2, Purana Paltan, Dhaka-1000': 1, '24/1, Bijoy Nagar, Dhaka-1000': 1, '13, Fakirapool, Dhaka-1000': 1, '62, Pioneer Road, Kakrail, Dhaka-1000': 1, '48/1, Eusuf Bhaban, Motijheel, DHaka-1000': 1, 'Gulshan Tower, Plot # 1, Road # 31, Gulshan North C/A, Gulshan-2, Dhaka-1212': 1, '22, Dilkusha, Motijheel, Dhaka-1000': 1, '1-1/1, Naya Paltan, Dhaka-1000': 1, '213, Shohid Nazrul Islam Soroni, Purana Paltan, Dhaka-1000': 1, '20, Topkhana Road, Press Club, Dhaka-1000': 1, '47, Kakrail, Ramna, Dhaka-1000': 1, '9/A, Toyenbee Circuler Road, Motijheel C/A, Dhaka-1000': 1, 'Plot # 43, Road # 2/A, Dhanmondi, Dhaka-1209': 1, 'Hossain Tower, 12th Floor, Plot # 116, Naya Palton, Dhaka-1000': 1, '28/A-2, Toyenbee Circuler Road, Motijheel C/A, Dhaka-1000': 1, '68, Purana Paltan, Dhaka': 1, '59/1, Purana Paltan, Dhaka-1000': 1, '2/3,  East Rampura, D.I.T. Road, Dhaka-1219': 1, '3, D.I.T Avenue, Motijheel, Dhaka-1000': 1, '30, Bijoy Nagar, Dhaka-1000': 1, '6, Fakirapool, Dhaka-1000': 1}\n",
            "{'Overall': 56, 'Bangla': 1}\n",
            "   area  city  food_type_name\n",
            "0     4     1              56\n",
            "1    13     1              56\n",
            "2     2     1              56\n",
            "3     1     1              56\n",
            "4    21     1              56\n",
            "4:  Gulistan\n",
            "13:  Motijheel\n",
            "2:  Paltan , Vatara, Rampura\n",
            "1:  Fakirapool , Dilkusha, Uttara, Mirpur, Banani, Gulshan- 2, Dhanmondi\n",
            "21:  Paltan\n",
            "------\n",
            "Ranked frequency encoding\n",
            "   area  city  food_type_name\n",
            "0     3     3               1\n",
            "1     2     4               1\n",
            "2     6     5               1\n",
            "3     9     6               1\n",
            "4     1     7               1\n",
            "3:  Gulistan\n",
            "2:  Motijheel\n",
            "6:  Paltan \n",
            "9:  Fakirapool \n",
            "1:  Paltan\n"
          ],
          "name": "stdout"
        }
      ]
    }
  ]
}