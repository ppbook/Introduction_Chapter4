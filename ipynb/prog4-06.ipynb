{
  "nbformat": 4,
  "nbformat_minor": 0,
  "metadata": {
    "colab": {
      "name": "prog3-20.ipynb",
      "provenance": [],
      "collapsed_sections": []
    },
    "kernelspec": {
      "name": "python3",
      "display_name": "Python 3"
    }
  },
  "cells": [
    {
      "cell_type": "code",
      "metadata": {
        "colab": {
          "resources": {
            "http://localhost:8080/nbextensions/google.colab/files.js": {
              "data": "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",
              "ok": true,
              "headers": [
                [
                  "content-type",
                  "application/javascript"
                ]
              ],
              "status": 200,
              "status_text": ""
            }
          },
          "base_uri": "https://localhost:8080/",
          "height": 79
        },
        "id": "-SBXzYT50Hen",
        "outputId": "67e92e79-9ba4-4661-e2aa-e1223942bbf5"
      },
      "source": [
        "from google.colab import files\n",
        "files.upload() # kaggle.jsonをアップロード\n",
        "!mkdir -p ~/.kaggle\n",
        "!mv kaggle.json ~/.kaggle/\n",
        "!chmod 600 /root/.kaggle/kaggle.json"
      ],
      "execution_count": 1,
      "outputs": [
        {
          "output_type": "display_data",
          "data": {
            "text/html": [
              "\n",
              "     <input type=\"file\" id=\"files-7dabdb3c-771c-4a55-b4a4-467c67be6411\" name=\"files[]\" multiple disabled\n",
              "        style=\"border:none\" />\n",
              "     <output id=\"result-7dabdb3c-771c-4a55-b4a4-467c67be6411\">\n",
              "      Upload widget is only available when the cell has been executed in the\n",
              "      current browser session. Please rerun this cell to enable.\n",
              "      </output>\n",
              "      <script src=\"/nbextensions/google.colab/files.js\"></script> "
            ],
            "text/plain": [
              "<IPython.core.display.HTML object>"
            ]
          },
          "metadata": {
            "tags": []
          }
        },
        {
          "output_type": "stream",
          "text": [
            "Saving kaggle.json to kaggle.json\n"
          ],
          "name": "stdout"
        }
      ]
    },
    {
      "cell_type": "code",
      "metadata": {
        "colab": {
          "base_uri": "https://localhost:8080/"
        },
        "id": "cAChXFzV0PId",
        "outputId": "f432ea0e-9f39-4fb7-9b21-f74ef0d40afc"
      },
      "source": [
        "import pandas as pd\n",
        "import numpy as np\n",
        "from sklearn.linear_model import LogisticRegression\n",
        "from sklearn.model_selection import train_test_split\n",
        "from sklearn.preprocessing import MinMaxScaler\n",
        "from sklearn.model_selection import train_test_split\n",
        "from sklearn.metrics import classification_report\n",
        "from sklearn.impute import SimpleImputer\n",
        "# 回帰モデルを基に特徴選択\n",
        "from sklearn.feature_selection import SelectFromModel\n",
        "# リッジ回帰, Lasso回帰, 弾性ネット回帰\n",
        "from sklearn.linear_model import Ridge, Lasso, ElasticNet\n",
        "# リッジ回帰, Lasso回帰, RidgeCV, LassoCVをインポート\n",
        "from sklearn.linear_model import Ridge, Lasso, RidgeCV, LassoCV\n",
        "# ElasticNet, ElasticNetCV をインポート\n",
        "from sklearn.linear_model import ElasticNet, ElasticNetCV\n",
        "\n",
        "# カテゴリ特徴量を数字に変換\n",
        "def replace_to_digit(dff):\n",
        "    t = list(set([v for v in dff.values])) \n",
        "    t.sort()\n",
        "    vals = [t.index(v) for v in dff.values]\n",
        "    return vals\n",
        "\n",
        "# データの準備\n",
        "def prepare():\n",
        "    !kaggle datasets download -d \\\n",
        "    mylesoneill/world-university-rankings\n",
        "    !unzip world-university-rankings.zip\n",
        "    # 世界大学ランキングのデータを使用\n",
        "    # 分類に使用する特徴量\n",
        "    features = ['country', 'national_rank', \n",
        "                'quality_of_education',\n",
        "                'alumni_employment', 'quality_of_faculty',\n",
        "                'publications', 'influence','citations',\n",
        "                'broad_impact', 'patents', 'score']\n",
        "    df_train = pd.read_csv('cwurData.csv')\n",
        "    df_train['country'] = \\\n",
        "    replace_to_digit(df_train['country'])\n",
        "    X_train = df_train.loc[:,features].values\n",
        "    y_train = df_train.loc[:,['world_rank']].values.ravel()\n",
        "    # ビニングによりランキングを4分割\n",
        "    bins = [0, 250, 500, 750, 1000]\n",
        "    labels = [0, 1, 2, 3]\n",
        "    classNames = ['(0,250]', '(250,500]', \n",
        "                  '(500,750]', '(750,1000]']\n",
        "    y_cut = pd.cut(df_train.loc[:,['world_rank']].values.ravel(), \n",
        "                   bins=bins, labels=labels)\n",
        "    y_train = [c for c in y_cut.codes]\n",
        "    return X_train, y_train, features, classNames\n",
        "\n",
        "# 前処理（平均値による欠損値の補完、正規化）\n",
        "def preprocess(X_train): \n",
        "    # 平均値による単一代入法\n",
        "    simple_imp = SimpleImputer(missing_values=np.nan, \n",
        "                               strategy='mean') \n",
        "    simple_imp.fit(X_train) \n",
        "    X_train = simple_imp.transform(X_train) \n",
        "    ms = MinMaxScaler()\n",
        "    ms.fit(X_train)\n",
        "    X_train = ms.transform(X_train)\n",
        "    return X_train\n",
        "\n",
        "def main(): \n",
        "    X_train, y_train, features, classNames = prepare()\n",
        "    print('Original Features ', features)\n",
        "    X_train = preprocess(X_train)\n",
        "    X_train, X_test, y_train, y_test = train_test_split( \n",
        "                                     X_train, y_train, \n",
        "                                     random_state=0, \n",
        "                                     train_size=0.9)\n",
        "    # 正則化項のパラメータalphaの候補をタプルで定義\n",
        "    alphas = (0.01, 0.5, 1.0) \n",
        "    cvs = [RidgeCV(alphas=alphas), \n",
        "           LassoCV(alphas=alphas), \n",
        "           ElasticNetCV(alphas=alphas)]\n",
        "    selectors = [Ridge(), Lasso(), ElasticNet()]\n",
        "    for cv, sel in zip(cvs, selectors): \n",
        "        # リッジ回帰、Lasso回帰、弾性ネット回帰の\n",
        "        # 正則化パラメータの選択を行う\n",
        "        # また、選択されたパラメータを用いた特徴選択を\n",
        "        # 行い、ロジスティック回帰により学習と予測を行う\n",
        "        print('Logistic Regression with {} \\\n",
        "        Feature Selection'.format(cv.__class__.__name__))\n",
        "        cv.fit(X_train, y_train)\n",
        "        print(cv.alpha_)\n",
        "        sel.alpha = cv.alpha_\n",
        "        s_f = SelectFromModel(sel) \n",
        "        s_f.fit(X_train, y_train)\n",
        "        print('- Selected Features \\\n",
        "            by {} -'.format(sel.__class__.__name__))\n",
        "        for i, f in enumerate(s_f.get_support()):\n",
        "            if f == 1:\n",
        "                print('%d: %s' % (f, features[i]))\n",
        "        X_train_sel = s_f.transform(X_train)\n",
        "        X_test_sel = s_f.transform(X_test)\n",
        "        lr = LogisticRegression()\n",
        "        lr.fit(X_train_sel, y_train)\n",
        "        y_pred = lr.predict(X_test_sel)\n",
        "        print('\\tTest set Accuracy: %.3lf\\n' % lr.score(X_test_sel, y_test) )\n",
        "        print(classification_report(y_test, y_pred, target_names=classNames))\n",
        "\n",
        "if __name__ == '__main__':\n",
        "    main()\n"
      ],
      "execution_count": 2,
      "outputs": [
        {
          "output_type": "stream",
          "text": [
            "Downloading world-university-rankings.zip to /content\n",
            "\r  0% 0.00/1.41M [00:00<?, ?B/s]\n",
            "\r100% 1.41M/1.41M [00:00<00:00, 95.8MB/s]\n",
            "Archive:  world-university-rankings.zip\n",
            "  inflating: cwurData.csv            \n",
            "  inflating: education_expenditure_supplementary_data.csv  \n",
            "  inflating: educational_attainment_supplementary_data.csv  \n",
            "  inflating: school_and_country_table.csv  \n",
            "  inflating: shanghaiData.csv        \n",
            "  inflating: timesData.csv           \n",
            "Original Features  ['country', 'national_rank', 'quality_of_education', 'alumni_employment', 'quality_of_faculty', 'publications', 'influence', 'citations', 'broad_impact', 'patents', 'score']\n",
            "Logistic Regression with RidgeCV         Feature Selection\n",
            "0.5\n",
            "- Selected Features             by Ridge -\n",
            "1: alumni_employment\n",
            "1: publications\n",
            "1: broad_impact\n",
            "1: score\n",
            "\tTest set Accuracy: 0.855\n",
            "\n",
            "              precision    recall  f1-score   support\n",
            "\n",
            "     (0,250]       0.91      0.91      0.91        68\n",
            "   (250,500]       0.80      0.75      0.78        60\n",
            "   (500,750]       0.74      0.80      0.77        44\n",
            "  (750,1000]       0.94      0.96      0.95        48\n",
            "\n",
            "    accuracy                           0.85       220\n",
            "   macro avg       0.85      0.85      0.85       220\n",
            "weighted avg       0.85      0.85      0.85       220\n",
            "\n",
            "Logistic Regression with LassoCV         Feature Selection\n",
            "0.01\n",
            "- Selected Features             by Lasso -\n",
            "1: quality_of_education\n",
            "1: alumni_employment\n",
            "1: publications\n",
            "1: influence\n",
            "1: citations\n",
            "1: broad_impact\n",
            "1: patents\n",
            "\tTest set Accuracy: 0.832\n",
            "\n",
            "              precision    recall  f1-score   support\n",
            "\n",
            "     (0,250]       0.92      0.90      0.91        68\n",
            "   (250,500]       0.79      0.73      0.76        60\n",
            "   (500,750]       0.68      0.77      0.72        44\n",
            "  (750,1000]       0.92      0.92      0.92        48\n",
            "\n",
            "    accuracy                           0.83       220\n",
            "   macro avg       0.83      0.83      0.83       220\n",
            "weighted avg       0.84      0.83      0.83       220\n",
            "\n",
            "Logistic Regression with ElasticNetCV         Feature Selection\n",
            "0.01\n",
            "- Selected Features             by ElasticNet -\n",
            "1: alumni_employment\n",
            "1: publications\n",
            "1: influence\n",
            "1: broad_impact\n",
            "\tTest set Accuracy: 0.864\n",
            "\n",
            "              precision    recall  f1-score   support\n",
            "\n",
            "     (0,250]       0.94      0.93      0.93        68\n",
            "   (250,500]       0.82      0.78      0.80        60\n",
            "   (500,750]       0.74      0.77      0.76        44\n",
            "  (750,1000]       0.92      0.96      0.94        48\n",
            "\n",
            "    accuracy                           0.86       220\n",
            "   macro avg       0.86      0.86      0.86       220\n",
            "weighted avg       0.86      0.86      0.86       220\n",
            "\n"
          ],
          "name": "stdout"
        }
      ]
    }
  ]
}