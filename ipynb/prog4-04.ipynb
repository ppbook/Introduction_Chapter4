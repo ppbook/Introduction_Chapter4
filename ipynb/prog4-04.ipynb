{
  "nbformat": 4,
  "nbformat_minor": 0,
  "metadata": {
    "colab": {
      "name": "prog4-04.ipynb",
      "provenance": []
    },
    "kernelspec": {
      "name": "python3",
      "display_name": "Python 3"
    }
  },
  "cells": [
    {
      "cell_type": "code",
      "metadata": {
        "colab": {
          "resources": {
            "http://localhost:8080/nbextensions/google.colab/files.js": {
              "data": "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",
              "ok": true,
              "headers": [
                [
                  "content-type",
                  "application/javascript"
                ]
              ],
              "status": 200,
              "status_text": ""
            }
          },
          "base_uri": "https://localhost:8080/",
          "height": 78
        },
        "id": "p6iG66cgTNcz",
        "outputId": "ba7567c2-b981-4fd6-a72b-543ae18e9145"
      },
      "source": [
        "from google.colab import files\r\n",
        "files.upload() # kaggle.jsonをアップロード\r\n",
        "!mkdir -p ~/.kaggle\r\n",
        "!mv kaggle.json ~/.kaggle/\r\n",
        "!chmod 600 /root/.kaggle/kaggle.json"
      ],
      "execution_count": 1,
      "outputs": [
        {
          "output_type": "display_data",
          "data": {
            "text/html": [
              "\n",
              "     <input type=\"file\" id=\"files-17cba98c-b80a-42f1-9a0f-1e207719ed71\" name=\"files[]\" multiple disabled\n",
              "        style=\"border:none\" />\n",
              "     <output id=\"result-17cba98c-b80a-42f1-9a0f-1e207719ed71\">\n",
              "      Upload widget is only available when the cell has been executed in the\n",
              "      current browser session. Please rerun this cell to enable.\n",
              "      </output>\n",
              "      <script src=\"/nbextensions/google.colab/files.js\"></script> "
            ],
            "text/plain": [
              "<IPython.core.display.HTML object>"
            ]
          },
          "metadata": {
            "tags": []
          }
        },
        {
          "output_type": "stream",
          "text": [
            "Saving kaggle.json to kaggle.json\n"
          ],
          "name": "stdout"
        }
      ]
    },
    {
      "cell_type": "code",
      "metadata": {
        "colab": {
          "base_uri": "https://localhost:8080/",
          "height": 0
        },
        "id": "jdZNdlNaTQM-",
        "outputId": "7bd3c4e7-82a6-4549-9eb1-36b2994182a7"
      },
      "source": [
        "import pandas as pd\r\n",
        "import numpy as np\r\n",
        "import collections as colle\r\n",
        "from sklearn.preprocessing import LabelEncoder\r\n",
        "# SVMを用いるためにインポート\r\n",
        "from sklearn.svm import SVC\r\n",
        "from sklearn.model_selection import train_test_split\r\n",
        "from sklearn.metrics import classification_report\r\n",
        "from sklearn.metrics import classification_report as clf_report\r\n",
        "from sklearn.impute import SimpleImputer\r\n",
        "# 特徴量ハッシングのためにFeatureHasherクラスをインポート\r\n",
        "from sklearn.feature_extraction import FeatureHasher\r\n",
        "\r\n",
        "!kaggle datasets download -d \\\r\n",
        "mariotormo/complete-pokemon-dataset-updated-090420\r\n",
        "!unzip complete-pokemon-dataset-updated-090420.zip\r\n",
        "# データの準備\r\n",
        "def prepare(le_flag=False):\r\n",
        "    df = pd.read_csv('pokedex_(Update_05.20).csv')\r\n",
        "    # 欠損値を文字列'NULL'に置換\r\n",
        "    for f in df.columns.values:\r\n",
        "        df[f].fillna('NULL', inplace=True)\r\n",
        "\r\n",
        "    # 予測モデルを学習する際に用いる特徴量\r\n",
        "    features = ['name', 'german_name', 'japanese_name', \r\n",
        "                'status', 'species', \r\n",
        "                'type_1', 'type_2', \r\n",
        "                'ability_1', 'ability_2', \r\n",
        "                'ability_hidden', \r\n",
        "                'egg_type_1', 'egg_type_2']\r\n",
        "    df = pd.DataFrame(df, columns=features)\r\n",
        "    nf = []\r\n",
        "    # 特徴量をラベルエンコーディング\r\n",
        "    if le_flag:\r\n",
        "        for u in df.columns.values:\r\n",
        "            if u != 'status':\r\n",
        "                le = LabelEncoder()\r\n",
        "                enc = le.fit_transform(df[u].values)\r\n",
        "                df[u] = enc\r\n",
        "    # n_features 個の特徴量を用いる\r\n",
        "    # 'status'は予測クラスのラベルとして使う\r\n",
        "    for f in features:\r\n",
        "        if f != 'status':\r\n",
        "            nf.append(f)\r\n",
        "    features = nf\r\n",
        "    df['status'].replace({'Legendary':1, 'Sub Legendary':1, 'Mythical':1, 'Normal':0}, inplace=True)\r\n",
        "    X_train = df.loc[:,features].values\r\n",
        "    y_train = df.loc[:,['status']].values.ravel()\r\n",
        "    \r\n",
        "    # 伝説のポケモンが少ないため、クラスのバランスを調整する\r\n",
        "    positive_cnt = np.sum(y_train)\r\n",
        "    negative_cnt = 0\r\n",
        "    cnt = colle.defaultdict(int)\r\n",
        "    X_tra = []\r\n",
        "    y_tra = []\r\n",
        "    for i in range(len(X_train)):\r\n",
        "        if y_train[i] == 0:\r\n",
        "            if negative_cnt == positive_cnt:\r\n",
        "                continue\r\n",
        "            negative_cnt += 1\r\n",
        "        \r\n",
        "        X_tra.append(X_train[i])\r\n",
        "        y_tra.append(y_train[i])\r\n",
        "    print('Num of Features: {}'.format(len(features)))\r\n",
        "    return X_tra, y_tra, features\r\n",
        "\r\n",
        "# 欠損値の補完を行い、テストデータと学習データに分割\r\n",
        "def preprocess(X_train, y_train, features):\r\n",
        "    # データの種類を数える\r\n",
        "    dl = []\r\n",
        "    for i in range(len(X_train)):\r\n",
        "        for j in range(len(X_train[i])):\r\n",
        "            dl.append(X_train[i][j])\r\n",
        "    cnt = colle.Counter(dl)\r\n",
        "    n_features = len(cnt)\r\n",
        "    X_train, X_test, y_train, y_test = train_test_split(\r\n",
        "               X_train, y_train, random_state=3, \r\n",
        "               train_size=0.5, stratify=y_train)\r\n",
        "    X_train = pd.DataFrame( X_train, columns=features)\r\n",
        "    X_test = pd.DataFrame(X_test, columns=features)\r\n",
        "    return X_train, y_train, X_test, y_test, n_features\r\n",
        "\r\n",
        "# 特徴量ハッシング(特徴量の種類を減らす)\r\n",
        "def featureHashing(X_train, X_test, n_features, features):\r\n",
        "    X_train_dict = pd.DataFrame(X_train, columns=features)\r\n",
        "    X_test_dict = pd.DataFrame(X_test, columns=features)\r\n",
        "    fh = FeatureHasher(\r\n",
        "           n_features=n_features, input_type='string')\r\n",
        "    fh_train, fh_test = [], []\r\n",
        "    for f in features:\r\n",
        "        if len(fh_train) == 0:\r\n",
        "            fh_train = fh.transform( \\\r\n",
        "                         X_train_dict[f]).toarray()\r\n",
        "            fh_test = fh.transform( \\\r\n",
        "                         X_test_dict[f]).toarray()\r\n",
        "        else:\r\n",
        "            fh_train = fh_train +\\\r\n",
        "               fh.transform(X_train_dict[f]).toarray()\r\n",
        "            fh_test = fh_test +\\\r\n",
        "               fh.transform(X_test_dict[f]).toarray()\r\n",
        "    return fh_train, fh_test\r\n",
        "\r\n",
        "def main():\r\n",
        "    tnames = ['Normal', 'Legend']\r\n",
        "    X_train, y_train, features = prepare(le_flag=False)\r\n",
        "    X_train, y_train, X_test, y_test, original_n_features =\\\r\n",
        "               preprocess(X_train, y_train, features)\r\n",
        "    print('original dimension: %d' % len(X_train.columns))\r\n",
        "    print('original kinds of features: %d'\\\r\n",
        "                              % original_n_features)\r\n",
        "    # 特徴量ハッシングにより特徴量の種類を\r\n",
        "    # 全体でn_features種類に減らす\r\n",
        "    n_features = 6\r\n",
        "    fhtrain, fhtest = featureHashing(\\\r\n",
        "                    X_train, X_test, n_features, features)\r\n",
        "    df = pd.DataFrame(\\\r\n",
        "                fhtrain, columns=list(range(n_features)))\r\n",
        "    df.to_csv('./feature_hashing.csv')\r\n",
        "    # カテゴリ特徴量をもとに、ポケモンが伝説の\r\n",
        "    # ポケモンか否かを判別するモデルをSVMにより学習する\r\n",
        "    svc = SVC()\r\n",
        "    svc.fit(fhtrain, y_train)\r\n",
        "    print('Accuracy(With Feature Hashing):\\t%.3lf' % (\r\n",
        "            svc.score(fhtest, y_test)))\r\n",
        "    y_pred = svc.predict(fhtest)\r\n",
        "\r\n",
        "    print(classification_report(y_test, y_pred,\\\r\n",
        "                                target_names=tnames))\r\n",
        "\r\n",
        "    # 特徴量ハッシングしない場合\r\n",
        "    # ラベルエンコーディングしてから学習\r\n",
        "    X_train, y_train, features = prepare(le_flag=True)\r\n",
        "    X_train, y_train, X_test, y_test, original_n_features = \\\r\n",
        "                 preprocess(X_train, y_train, features)\r\n",
        "    svc = SVC()\r\n",
        "    svc.fit(X_train, y_train)\r\n",
        "    print('Accuracy(Without Feature Hashing):\\t%.3lf' % (\r\n",
        "               svc.score(X_test, y_test) ) )\r\n",
        "    y_pred = svc.predict(X_test)\r\n",
        "    print(classification_report(y_test, y_pred,\\\r\n",
        "                             target_names=tnames))\r\n",
        "\r\n",
        "if __name__ == '__main__':\r\n",
        "    main()\r\n",
        "    "
      ],
      "execution_count": 2,
      "outputs": [
        {
          "output_type": "stream",
          "text": [
            "Downloading complete-pokemon-dataset-updated-090420.zip to /content\n",
            "\r  0% 0.00/128k [00:00<?, ?B/s]\n",
            "\r100% 128k/128k [00:00<00:00, 18.6MB/s]\n",
            "Archive:  complete-pokemon-dataset-updated-090420.zip\n",
            "  inflating: pokedex_(Update.04.20).csv  \n",
            "  inflating: pokedex_(Update_05.20).csv  \n",
            "Num of Features: 11\n",
            "original dimension: 11\n",
            "original kinds of features: 782\n",
            "Accuracy(With Feature Hashing):\t0.850\n",
            "              precision    recall  f1-score   support\n",
            "\n",
            "      Normal       0.83      0.88      0.85        57\n",
            "      Legend       0.87      0.82      0.84        56\n",
            "\n",
            "    accuracy                           0.85       113\n",
            "   macro avg       0.85      0.85      0.85       113\n",
            "weighted avg       0.85      0.85      0.85       113\n",
            "\n",
            "Num of Features: 11\n",
            "Accuracy(Without Feature Hashing):\t0.549\n",
            "              precision    recall  f1-score   support\n",
            "\n",
            "      Normal       0.69      0.19      0.30        57\n",
            "      Legend       0.53      0.91      0.67        56\n",
            "\n",
            "    accuracy                           0.55       113\n",
            "   macro avg       0.61      0.55      0.48       113\n",
            "weighted avg       0.61      0.55      0.48       113\n",
            "\n"
          ],
          "name": "stdout"
        }
      ]
    }
  ]
}