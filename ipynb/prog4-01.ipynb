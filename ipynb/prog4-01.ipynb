{
  "nbformat": 4,
  "nbformat_minor": 0,
  "metadata": {
    "colab": {
      "name": "prog4-01.ipynb",
      "provenance": []
    },
    "kernelspec": {
      "name": "python3",
      "display_name": "Python 3"
    }
  },
  "cells": [
    {
      "cell_type": "code",
      "metadata": {
        "colab": {
          "resources": {
            "http://localhost:8080/nbextensions/google.colab/files.js": {
              "data": "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",
              "ok": true,
              "headers": [
                [
                  "content-type",
                  "application/javascript"
                ]
              ],
              "status": 200,
              "status_text": ""
            }
          },
          "base_uri": "https://localhost:8080/",
          "height": 78
        },
        "id": "mzGY6i-qJxvl",
        "outputId": "e0f841d0-06f3-4069-ae49-b20af9d2a4ec"
      },
      "source": [
        "from google.colab import files\r\n",
        "files.upload() # kaggle.jsonをアップロード\r\n",
        "!mkdir -p ~/.kaggle\r\n",
        "!mv kaggle.json ~/.kaggle/\r\n",
        "!chmod 600 /root/.kaggle/kaggle.json"
      ],
      "execution_count": 1,
      "outputs": [
        {
          "output_type": "display_data",
          "data": {
            "text/html": [
              "\n",
              "     <input type=\"file\" id=\"files-a46d4b1f-a488-400e-8f5a-fe0660dc458e\" name=\"files[]\" multiple disabled\n",
              "        style=\"border:none\" />\n",
              "     <output id=\"result-a46d4b1f-a488-400e-8f5a-fe0660dc458e\">\n",
              "      Upload widget is only available when the cell has been executed in the\n",
              "      current browser session. Please rerun this cell to enable.\n",
              "      </output>\n",
              "      <script src=\"/nbextensions/google.colab/files.js\"></script> "
            ],
            "text/plain": [
              "<IPython.core.display.HTML object>"
            ]
          },
          "metadata": {
            "tags": []
          }
        },
        {
          "output_type": "stream",
          "text": [
            "Saving kaggle.json to kaggle.json\n"
          ],
          "name": "stdout"
        }
      ]
    },
    {
      "cell_type": "code",
      "metadata": {
        "colab": {
          "base_uri": "https://localhost:8080/",
          "height": 0
        },
        "id": "NMnjMFPLJ08p",
        "outputId": "90c4fcfc-b253-47f0-cd7b-f0c165c0dd0d"
      },
      "source": [
        "import pandas as pd\r\n",
        "import numpy as np\r\n",
        "# SVMのクラスをインポート\r\n",
        "from sklearn.svm import SVC\r\n",
        "# ナイーブベイズ分類器のクラスをインポート\r\n",
        "from sklearn.naive_bayes import GaussianNB, MultinomialNB\r\n",
        "# ランダムフォレスト、勾配ブースティングのクラスをインポート\r\n",
        "from sklearn.ensemble import RandomForestClassifier,\\\r\n",
        " GradientBoostingClassifier\r\n",
        "import pandas as pd\r\n",
        "# One-hotエンコーディングのクラスをインポート\r\n",
        "from sklearn.preprocessing import OneHotEncoder\r\n",
        "from sklearn.model_selection import train_test_split\r\n",
        "from sklearn.metrics import classification_report\r\n",
        "from sklearn.impute import SimpleImputer\r\n",
        "# データ準備と前処理\r\n",
        "def prepare():\r\n",
        "    !kaggle datasets download -d \\\r\n",
        "    kendallgillies/video-game-sales-and-ratings\r\n",
        "    !unzip video-game-sales-and-ratings.zip\r\n",
        "    # ビデオゲームの評価データを使用\r\n",
        "    # 分類に使用する特徴量\r\n",
        "    df_train = pd.read_csv(\r\n",
        "  'Video_Game_Sales_as_of_Jan_2017.csv')\r\n",
        "    # プラットフォーム、ジャンルなどのカテゴリ特徴量\r\n",
        "    features = ['Platform', 'Year_of_Release', \r\n",
        "  'Genre', 'Publisher']\r\n",
        "    print(set(df_train['Rating'].values))\r\n",
        "    # 欠損値を除去\r\n",
        "    df_train.dropna(how='any', inplace=True)\r\n",
        "    # データ数が少ない評価のものは対象外とする\r\n",
        "    drop_idx = df_train.index[df_train['Rating'].isin( \r\n",
        "  ['K-A', 'RP', 'AO', 'EC'])]\r\n",
        "    # 条件にマッチした行を削除\r\n",
        "    df_train.drop(drop_idx, inplace=True)\r\n",
        "    X_train = df_train.loc[:,features].values\r\n",
        "    y_train = df_train.loc[:,['Rating']].values\r\n",
        "    print(df_train)\r\n",
        "    return X_train, y_train, features\r\n",
        "\r\n",
        "# One-hotエンコーディング\r\n",
        "def makeOneHotVector(features, X_train):\r\n",
        "    enc = OneHotEncoder(categories='auto', \r\n",
        "        sparse=False, dtype=np.float32)\r\n",
        "    df = pd.DataFrame(X_train, columns=features)\r\n",
        "    num = len(df)\r\n",
        "    newX, data = [], {}\r\n",
        "    for f in features:\r\n",
        "        data[f] = enc.fit_transform(df.loc[:,[f]])\r\n",
        "    # 作成した列ごとのOne-hotベクトルを横に連結する\r\n",
        "    newX = np.array([])\r\n",
        "    for f in features:\r\n",
        "        if len(newX) == 0:\r\n",
        "            newX = data[f]\r\n",
        "            continue\r\n",
        "        newX = np.concatenate((newX, data[f]), axis=-1)\r\n",
        "        print('DIM:', len(data[f][0]) )\r\n",
        "    return newX\r\n",
        "\r\n",
        "# 機械学習手法による学習と予測\r\n",
        "# 引数clfに指定した機械学習手法を用いる\r\n",
        "def train_eval(data, clf):\r\n",
        "    X_train, y_train, X_test, y_test = data\r\n",
        "    print('-------- {} ---------'.format(\r\n",
        "        clf.__class__.__name__))\r\n",
        "    clf.fit(X_train, y_train.ravel())\r\n",
        "    print( 'Accuracy: %.2lf' % clf.score(X_test, y_test))\r\n",
        "    y_pred = clf.predict(X_test)\r\n",
        "    print(classification_report(y_test, y_pred,\r\n",
        "    zero_division=1))\r\n",
        "\r\n",
        "def main():\r\n",
        "    X_train, y_train, features = prepare()\r\n",
        "    # One-hotエンコーディングを用いてカテゴリ変数をベクトル化\r\n",
        "    X_train = makeOneHotVector(features, X_train)\r\n",
        "    print(len(X_train[0]))\r\n",
        "    X_train, X_test, y_train, y_test = \\\r\n",
        "    train_test_split(X_train, y_train, \\\r\n",
        "                     random_state=0, train_size=0.9)\r\n",
        "    data = [X_train, y_train, X_test, y_test]\r\n",
        "    # ランダムフォレスト、勾配ブースティング、\r\n",
        "    # ナイーブベイズ分類器(Gaussian, Multinomial)、\r\n",
        "    # SVMで学習・分類\r\n",
        "    rf = RandomForestClassifier(max_depth=5, random_state=0)\r\n",
        "    gbc = GradientBoostingClassifier()\r\n",
        "    gnb = GaussianNB()\r\n",
        "    mnb = MultinomialNB()\r\n",
        "    svm = SVC(C=1.0)\r\n",
        "    clfs = [rf, gbc, gnb, mnb, svm]\r\n",
        "    for clf in clfs:\r\n",
        "        train_eval(data, clf)\r\n",
        "\r\n",
        "if __name__ == '__main__':\r\n",
        "    main()\r\n"
      ],
      "execution_count": 2,
      "outputs": [
        {
          "output_type": "stream",
          "text": [
            "Downloading video-game-sales-and-ratings.zip to /content\n",
            "\r  0% 0.00/436k [00:00<?, ?B/s]\n",
            "\r100% 436k/436k [00:00<00:00, 62.1MB/s]\n",
            "Archive:  video-game-sales-and-ratings.zip\n",
            "  inflating: Video_Game_Sales_as_of_Jan_2017.csv  \n",
            "{nan, 'E10+', 'K-A', 'RP', 'T', 'E', 'M', 'AO', 'EC'}\n",
            "                            Name Platform  ...  User_Count Rating\n",
            "0                     Wii Sports      Wii  ...       324.0      E\n",
            "2                 Mario Kart Wii      Wii  ...       712.0      E\n",
            "3              Wii Sports Resort      Wii  ...       193.0      E\n",
            "6          New Super Mario Bros.       DS  ...       433.0      E\n",
            "7                       Wii Play      Wii  ...       129.0      E\n",
            "...                          ...      ...  ...         ...    ...\n",
            "17394  Tom Clancys Splinter Cell       PC  ...       291.0      T\n",
            "17401         Blacksite: Area 51       PC  ...        42.0      T\n",
            "17402         Virtua Tennis 2009       PC  ...        19.0      E\n",
            "17404              CivCity: Rome       PC  ...        32.0   E10+\n",
            "17407             Super Meat Boy      PS4  ...       114.0      T\n",
            "\n",
            "[7108 rows x 15 columns]\n",
            "DIM: 25\n",
            "DIM: 12\n",
            "DIM: 278\n",
            "332\n",
            "-------- RandomForestClassifier ---------\n",
            "Accuracy: 0.58\n",
            "              precision    recall  f1-score   support\n",
            "\n",
            "           E       0.73      0.82      0.77       234\n",
            "        E10+       1.00      0.00      0.00        95\n",
            "           M       0.94      0.12      0.21       136\n",
            "           T       0.48      0.83      0.61       246\n",
            "\n",
            "    accuracy                           0.58       711\n",
            "   macro avg       0.79      0.44      0.40       711\n",
            "weighted avg       0.72      0.58      0.50       711\n",
            "\n",
            "-------- GradientBoostingClassifier ---------\n",
            "Accuracy: 0.66\n",
            "              precision    recall  f1-score   support\n",
            "\n",
            "           E       0.75      0.81      0.78       234\n",
            "        E10+       0.56      0.29      0.39        95\n",
            "           M       0.68      0.62      0.65       136\n",
            "           T       0.60      0.69      0.64       246\n",
            "\n",
            "    accuracy                           0.66       711\n",
            "   macro avg       0.65      0.60      0.61       711\n",
            "weighted avg       0.66      0.66      0.65       711\n",
            "\n",
            "-------- GaussianNB ---------\n",
            "Accuracy: 0.21\n",
            "              precision    recall  f1-score   support\n",
            "\n",
            "           E       0.72      0.08      0.14       234\n",
            "        E10+       0.17      0.99      0.29        95\n",
            "           M       0.25      0.20      0.22       136\n",
            "           T       0.54      0.03      0.05       246\n",
            "\n",
            "    accuracy                           0.21       711\n",
            "   macro avg       0.42      0.32      0.17       711\n",
            "weighted avg       0.49      0.21      0.14       711\n",
            "\n",
            "-------- MultinomialNB ---------\n",
            "Accuracy: 0.64\n",
            "              precision    recall  f1-score   support\n",
            "\n",
            "           E       0.73      0.76      0.75       234\n",
            "        E10+       0.44      0.44      0.44        95\n",
            "           M       0.66      0.67      0.67       136\n",
            "           T       0.61      0.59      0.60       246\n",
            "\n",
            "    accuracy                           0.64       711\n",
            "   macro avg       0.61      0.61      0.61       711\n",
            "weighted avg       0.64      0.64      0.64       711\n",
            "\n",
            "-------- SVC ---------\n",
            "Accuracy: 0.70\n",
            "              precision    recall  f1-score   support\n",
            "\n",
            "           E       0.79      0.84      0.81       234\n",
            "        E10+       0.57      0.45      0.51        95\n",
            "           M       0.71      0.72      0.71       136\n",
            "           T       0.66      0.67      0.66       246\n",
            "\n",
            "    accuracy                           0.70       711\n",
            "   macro avg       0.68      0.67      0.67       711\n",
            "weighted avg       0.70      0.70      0.70       711\n",
            "\n"
          ],
          "name": "stdout"
        }
      ]
    }
  ]
}